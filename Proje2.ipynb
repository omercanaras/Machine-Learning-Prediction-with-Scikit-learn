{
 "cells": [
  {
   "cell_type": "code",
   "execution_count": 24,
   "metadata": {},
   "outputs": [
    {
     "data": {
      "text/html": [
       "<div>\n",
       "<style scoped>\n",
       "    .dataframe tbody tr th:only-of-type {\n",
       "        vertical-align: middle;\n",
       "    }\n",
       "\n",
       "    .dataframe tbody tr th {\n",
       "        vertical-align: top;\n",
       "    }\n",
       "\n",
       "    .dataframe thead th {\n",
       "        text-align: right;\n",
       "    }\n",
       "</style>\n",
       "<table border=\"1\" class=\"dataframe\">\n",
       "  <thead>\n",
       "    <tr style=\"text-align: right;\">\n",
       "      <th></th>\n",
       "      <th>Limit</th>\n",
       "      <th>Rating</th>\n",
       "      <th>Balance</th>\n",
       "      <th>Income</th>\n",
       "    </tr>\n",
       "  </thead>\n",
       "  <tbody>\n",
       "    <tr>\n",
       "      <th>1</th>\n",
       "      <td>3606</td>\n",
       "      <td>283</td>\n",
       "      <td>333.0</td>\n",
       "      <td>14891.0</td>\n",
       "    </tr>\n",
       "    <tr>\n",
       "      <th>2</th>\n",
       "      <td>6645</td>\n",
       "      <td>483</td>\n",
       "      <td>903.0</td>\n",
       "      <td>106025.0</td>\n",
       "    </tr>\n",
       "    <tr>\n",
       "      <th>3</th>\n",
       "      <td>7075</td>\n",
       "      <td>514</td>\n",
       "      <td>580.0</td>\n",
       "      <td>104593.0</td>\n",
       "    </tr>\n",
       "    <tr>\n",
       "      <th>4</th>\n",
       "      <td>9504</td>\n",
       "      <td>681</td>\n",
       "      <td>964.0</td>\n",
       "      <td>148924.0</td>\n",
       "    </tr>\n",
       "    <tr>\n",
       "      <th>5</th>\n",
       "      <td>4897</td>\n",
       "      <td>357</td>\n",
       "      <td>331.0</td>\n",
       "      <td>55882.0</td>\n",
       "    </tr>\n",
       "  </tbody>\n",
       "</table>\n",
       "</div>"
      ],
      "text/plain": [
       "   Limit  Rating  Balance    Income\n",
       "1   3606     283    333.0   14891.0\n",
       "2   6645     483    903.0  106025.0\n",
       "3   7075     514    580.0  104593.0\n",
       "4   9504     681    964.0  148924.0\n",
       "5   4897     357    331.0   55882.0"
      ]
     },
     "execution_count": 24,
     "metadata": {},
     "output_type": "execute_result"
    }
   ],
   "source": [
    "import pandas as pd\n",
    "import numpy as np\n",
    "\n",
    "data = pd.read_csv('Credit.csv',index_col=0)\n",
    "data= data.replace(0,np.nan)\n",
    "data=data.dropna(how='any',axis=0)\n",
    "data=data.replace(np.nan,0)\n",
    "data['Income']=data['Income'].apply(lambda x: x*250 if x < 1000 else x)\n",
    "data.head()"
   ]
  },
  {
   "cell_type": "code",
   "execution_count": 25,
   "metadata": {},
   "outputs": [],
   "source": [
    "import seaborn as sns\n",
    "%matplotlib inline"
   ]
  },
  {
   "cell_type": "code",
   "execution_count": 26,
   "metadata": {},
   "outputs": [
    {
     "data": {
      "text/plain": [
       "<seaborn.axisgrid.PairGrid at 0x29384f30630>"
      ]
     },
     "execution_count": 26,
     "metadata": {},
     "output_type": "execute_result"
    },
    {
     "data": {
      "image/png": "[encoded data removed]",
      "text/plain": [
       "<Figure size 540x180 with 3 Axes>"
      ]
     },
     "metadata": {
      "needs_background": "light"
     },
     "output_type": "display_data"
    }
   ],
   "source": [
    "sns.pairplot(data,x_vars=['Limit','Rating','Balance'],y_vars='Income')"
   ]
  },
  {
   "cell_type": "code",
   "execution_count": 28,
   "metadata": {},
   "outputs": [],
   "source": [
    "x_columns=['Limit','Rating','Balance']\n",
    "x = data[x_columns]\n",
    "\n",
    "y = data['Income']"
   ]
  },
  {
   "cell_type": "code",
   "execution_count": 29,
   "metadata": {},
   "outputs": [],
   "source": [
    "from sklearn.model_selection import train_test_split\n",
    "\n",
    "x_train, x_test, y_train, y_test = train_test_split(x,y,random_state=1)"
   ]
  },
  {
   "cell_type": "code",
   "execution_count": 30,
   "metadata": {},
   "outputs": [
    {
     "data": {
      "text/plain": [
       "LinearRegression(copy_X=True, fit_intercept=True, n_jobs=None,\n",
       "         normalize=False)"
      ]
     },
     "execution_count": 30,
     "metadata": {},
     "output_type": "execute_result"
    }
   ],
   "source": [
    "from sklearn.linear_model import LinearRegression\n",
    "\n",
    "new_linreg = LinearRegression()\n",
    "linreg.fit(x_train,y_train)\n"
   ]
  },
  {
   "cell_type": "code",
   "execution_count": null,
   "metadata": {},
   "outputs": [],
   "source": []
  },
  {
   "cell_type": "code",
   "execution_count": 55,
   "metadata": {},
   "outputs": [
    {
     "name": "stdout",
     "output_type": "stream",
     "text": [
      "14090.321567376892\n",
      "-45394.99021825344\n",
      "[ 23.27685841  -3.13335471 -53.02920822]\n"
     ]
    }
   ],
   "source": [
    "from sklearn import metrics\n",
    "\n",
    "y_pred = linreg.predict(x_test)\n",
    "\n",
    "print (np.sqrt(metrics.mean_squared_error(y_test , y_pred)))\n",
    "print(linreg.intercept_)\n",
    "print(linreg.coef_)"
   ]
  },
  {
   "cell_type": "code",
   "execution_count": 56,
   "metadata": {},
   "outputs": [
    {
     "name": "stdout",
     "output_type": "stream",
     "text": [
      "18500.088119272343\n",
      "-33542.58051741804\n",
      "[ 19.9870422  -74.51698958]\n"
     ]
    }
   ],
   "source": [
    "new_x_columns = ['Limit','Rating']\n",
    "new_x = data[new_x_columns]\n",
    "\n",
    "new_y = data['Income']\n",
    "\n",
    "new_x_train, new_x_test, new_y_train, new_y_test = train_test_split(new_x,new_y,random_state=1)\n",
    "\n",
    "from sklearn.linear_model import LinearRegression\n",
    "new_linreg = LinearRegression()\n",
    "\n",
    "new_linreg.fit(new_x_train,new_y_train)\n",
    "\n",
    "new_y_pred = new_linreg.predict(new_x_test)\n",
    "\n",
    "print (np.sqrt(metrics.mean_squared_error(new_y_test , new_y_pred)))\n",
    "\n",
    "print(new_linreg.intercept_)\n",
    "print(new_linreg.coef_)\n",
    "\n",
    "#Böylece bir sütunun çıkartılmasıyla olan değişimi görebiliyoruz"
   ]
  },
  {
   "cell_type": "code",
   "execution_count": 58,
   "metadata": {},
   "outputs": [
    {
     "name": "stdout",
     "output_type": "stream",
     "text": [
      "10438.381337772253\n"
     ]
    }
   ],
   "source": [
    "#Mean Absolute Error\n",
    "#Ortalama gerçek ile tahmin arasındaki fark\n",
    "\n",
    "print (metrics.mean_absolute_error(y_test , y_pred))"
   ]
  },
  {
   "cell_type": "code",
   "execution_count": 59,
   "metadata": {},
   "outputs": [
    {
     "data": {
      "text/plain": [
       "array([  2933.24966712,  21635.32582633,  23936.50054619,  57557.74445778,\n",
       "        22320.69970312,  44729.8133799 ,  30659.81826286,  82015.64101639,\n",
       "        14249.42564595, 123815.89092982,  47233.96299265,  43368.94859274,\n",
       "        66723.35419169,  32926.27773577,  19760.57023504,  31663.0368138 ,\n",
       "        75553.08521064,  26472.47165121,  37561.2337244 ,  27467.9021609 ,\n",
       "        11787.74983648,  34977.61385715,  50297.46267184,  91300.94976398,\n",
       "        66106.07396276,    954.48065148,  15529.08338953,  40991.32421671,\n",
       "        16724.30062999,  81055.43222292,  40369.35016048,  10860.09809639,\n",
       "        32710.5911684 ,  56801.70531532,  -8761.36269988, -17944.16053917,\n",
       "        46053.79464076,   9534.31512299,  29705.16242161,  42124.58470206,\n",
       "        56008.25366686,  23626.99291873,  93653.3721511 ,  19180.8066768 ,\n",
       "        58373.87197897,  47891.35894781,  55902.95539184,  19381.83274148,\n",
       "        15464.50260642,  34930.75549371,  27916.76465225,  69021.0310372 ,\n",
       "        49920.50983811,  74209.40036711,  52086.4900519 ,  16549.67455436,\n",
       "        33243.29631119,  42565.52045966,  40201.9989816 ,  25598.34891336,\n",
       "        51761.98644951,  43662.19391115,  17560.09939906,  19995.89546919,\n",
       "        14676.70894234,  -3511.82509718,  26385.70101651,  29750.68764125,\n",
       "        43575.93508029, -17865.56988042,  38537.5509982 ,  61039.38550849,\n",
       "        72642.82770535,  45605.62844662,  30447.21704117,  14477.81691331,\n",
       "        24962.50992684,  58977.57310846])"
      ]
     },
     "execution_count": 59,
     "metadata": {},
     "output_type": "execute_result"
    }
   ],
   "source": [
    "y_pred"
   ]
  },
  {
   "cell_type": "code",
   "execution_count": 60,
   "metadata": {},
   "outputs": [
    {
     "data": {
      "text/plain": [
       "99      36295.0\n",
       "322     25078.0\n",
       "241     29705.0\n",
       "87      55367.0\n",
       "161     12238.0\n",
       "135     34664.0\n",
       "400     18701.0\n",
       "189     83869.0\n",
       "145     17392.0\n",
       "294    140672.0\n",
       "304     44061.0\n",
       "398     57872.0\n",
       "72      58781.0\n",
       "73      22939.0\n",
       "387     19253.0\n",
       "133     23283.0\n",
       "390     83948.0\n",
       "368     23793.0\n",
       "307     11280.0\n",
       "111     34537.0\n",
       "236     10503.0\n",
       "312     23375.0\n",
       "22      37348.0\n",
       "222     98515.0\n",
       "13      80616.0\n",
       "273     30413.0\n",
       "223     33437.0\n",
       "266     40885.0\n",
       "106     12031.0\n",
       "253     72945.0\n",
       "         ...   \n",
       "217     15476.0\n",
       "375      7350.0\n",
       "138     36355.0\n",
       "367     61069.0\n",
       "5       55882.0\n",
       "235     69656.0\n",
       "113     46007.0\n",
       "64      14132.0\n",
       "91      20191.0\n",
       "198     50699.0\n",
       "10      71061.0\n",
       "174     14887.0\n",
       "20      42079.0\n",
       "272     44978.0\n",
       "397     13364.0\n",
       "1       14891.0\n",
       "181     10635.0\n",
       "274     16751.0\n",
       "76      33017.0\n",
       "232     25124.0\n",
       "237     42529.0\n",
       "219     10627.0\n",
       "213     39145.0\n",
       "114     69251.0\n",
       "230     69943.0\n",
       "298     55054.0\n",
       "379     19349.0\n",
       "48      44646.0\n",
       "101     21153.0\n",
       "227     59879.0\n",
       "Name: Income, Length: 78, dtype: float64"
      ]
     },
     "execution_count": 60,
     "metadata": {},
     "output_type": "execute_result"
    }
   ],
   "source": [
    "y_test"
   ]
  },
  {
   "cell_type": "code",
   "execution_count": null,
   "metadata": {},
   "outputs": [],
   "source": []
  }
 ],
 "metadata": {
  "kernelspec": {
   "display_name": "Python 3",
   "language": "python",
   "name": "python3"
  },
  "language_info": {
   "codemirror_mode": {
    "name": "ipython",
    "version": 3
   },
   "file_extension": ".py",
   "mimetype": "text/x-python",
   "name": "python",
   "nbconvert_exporter": "python",
   "pygments_lexer": "ipython3",
   "version": "3.7.3"
  }
 },
 "nbformat": 4,
 "nbformat_minor": 2
}
